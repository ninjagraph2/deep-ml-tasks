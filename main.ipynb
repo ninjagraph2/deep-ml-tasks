{
 "cells": [
  {
   "cell_type": "markdown",
   "metadata": {},
   "source": [
    "# [deep-ml.com](https://www.deep-ml.com/problems)"
   ]
  },
  {
   "cell_type": "markdown",
   "metadata": {},
   "source": [
    "# Matrix times Vector\n",
    "\n",
    "Write a Python function that takes the dot product of a matrix and a vector. return -1 if the matrix could not be dotted with the vector"
   ]
  },
  {
   "cell_type": "code",
   "execution_count": 1,
   "metadata": {},
   "outputs": [],
   "source": [
    "def matrix_dot_vector(a, b):\n",
    "    if len(a) != len(b):\n",
    "        c = -1\n",
    "    else:\n",
    "        c = [0] * len(a)\n",
    "        for i in range(len(a)):\n",
    "            for j in range(len(a[i])):\n",
    "                c[i] += a[i][j] * b[j]\n",
    "    return c"
   ]
  },
  {
   "cell_type": "code",
   "execution_count": 2,
   "metadata": {},
   "outputs": [],
   "source": [
    "a = [1, 2, 3], [2, 4, 5], [6, 8, 9]\n",
    "b = [1, 2, 3]"
   ]
  },
  {
   "cell_type": "code",
   "execution_count": 3,
   "metadata": {},
   "outputs": [
    {
     "data": {
      "text/plain": [
       "[14, 25, 49]"
      ]
     },
     "execution_count": 3,
     "metadata": {},
     "output_type": "execute_result"
    }
   ],
   "source": [
    "matrix_dot_vector(a, b)"
   ]
  },
  {
   "cell_type": "markdown",
   "metadata": {},
   "source": [
    "# Transpose of Matrix\n",
    "Write a Python function that computes the transpose of a given matrix."
   ]
  },
  {
   "cell_type": "code",
   "execution_count": 4,
   "metadata": {},
   "outputs": [],
   "source": [
    "def transpose_matrix(a):\n",
    "    rows = len(a)\n",
    "    cols = len(a[0])\n",
    "\n",
    "    b = [[0 for _ in range(rows)] for _ in range(cols)]\n",
    "\n",
    "    for i in range(rows):\n",
    "        for j in range(cols):\n",
    "            b[j][i] = a[i][j]\n",
    "\n",
    "    return b"
   ]
  },
  {
   "cell_type": "code",
   "execution_count": 5,
   "metadata": {},
   "outputs": [],
   "source": [
    "a = [[1, 2, 3], [4, 5, 6]]"
   ]
  },
  {
   "cell_type": "code",
   "execution_count": 6,
   "metadata": {},
   "outputs": [
    {
     "data": {
      "text/plain": [
       "[[1, 4], [2, 5], [3, 6]]"
      ]
     },
     "execution_count": 6,
     "metadata": {},
     "output_type": "execute_result"
    }
   ],
   "source": [
    "transpose_matrix(a)"
   ]
  },
  {
   "cell_type": "markdown",
   "metadata": {},
   "source": [
    "# Reshape Matrix\n",
    "Write a Python function that reshapes a given matrix into a specified shape."
   ]
  },
  {
   "cell_type": "code",
   "execution_count": 7,
   "metadata": {},
   "outputs": [],
   "source": [
    "import numpy as np"
   ]
  },
  {
   "cell_type": "code",
   "execution_count": 8,
   "metadata": {},
   "outputs": [],
   "source": [
    "def reshape_matrix(a, new_shape):\n",
    "    a = np.array(a)\n",
    "    reshaped_matrix = a.reshape(*new_shape)\n",
    "    return reshaped_matrix.tolist()"
   ]
  },
  {
   "cell_type": "code",
   "execution_count": 9,
   "metadata": {},
   "outputs": [],
   "source": [
    "a = [[1, 2, 3, 4], [5, 6, 7, 8]]\n",
    "new_shape = (4, 2)"
   ]
  },
  {
   "cell_type": "code",
   "execution_count": 10,
   "metadata": {},
   "outputs": [
    {
     "data": {
      "text/plain": [
       "[[1, 2], [3, 4], [5, 6], [7, 8]]"
      ]
     },
     "execution_count": 10,
     "metadata": {},
     "output_type": "execute_result"
    }
   ],
   "source": [
    "reshape_matrix(a, new_shape)"
   ]
  },
  {
   "cell_type": "markdown",
   "metadata": {},
   "source": [
    "# Calculate Mean by Row or Column\n",
    "Write a Python function that calculates the mean of a matrix either by row or by column, based on a given mode. The function should take a matrix (list of lists) and a mode ('row' or 'column') as input and return a list of means according to the specified mode."
   ]
  },
  {
   "cell_type": "code",
   "execution_count": 11,
   "metadata": {},
   "outputs": [],
   "source": [
    "def calculate_matrix_mean(matrix, mode):\n",
    "\n",
    "    means = []\n",
    "\n",
    "    if mode == \"column\":\n",
    "        mask = [[0 for _ in range(len(matrix))] for _ in range(len(matrix[0]))]\n",
    "\n",
    "        for col in range(len(matrix[0])):\n",
    "            for row in range(len(matrix)):\n",
    "                mask[row][col] = matrix[col][row]\n",
    "        for col in range(len(mask[0])):\n",
    "            means.append(sum(mask[col]) / len(mask[0]))\n",
    "\n",
    "    else:\n",
    "        for row in range(len(matrix)):\n",
    "            means.append(sum(matrix[row]) / len(matrix[0]))\n",
    "\n",
    "    return means"
   ]
  },
  {
   "cell_type": "code",
   "execution_count": 12,
   "metadata": {},
   "outputs": [],
   "source": [
    "matrix = [[1, 2, 3], [4, 5, 6], [7, 8, 9]]\n",
    "mode = \"column\""
   ]
  },
  {
   "cell_type": "code",
   "execution_count": 13,
   "metadata": {},
   "outputs": [
    {
     "data": {
      "text/plain": [
       "[4.0, 5.0, 6.0]"
      ]
     },
     "execution_count": 13,
     "metadata": {},
     "output_type": "execute_result"
    }
   ],
   "source": [
    "calculate_matrix_mean(matrix, mode=\"column\")"
   ]
  },
  {
   "cell_type": "markdown",
   "metadata": {},
   "source": [
    "# Scalar Multiplication of a Matrix\n",
    "Write a Python function that multiplies a matrix by a scalar and returns the result."
   ]
  },
  {
   "cell_type": "code",
   "execution_count": 14,
   "metadata": {},
   "outputs": [],
   "source": [
    "matrix = [[1, 2], [3, 4]]\n",
    "scalar = 2"
   ]
  },
  {
   "cell_type": "code",
   "execution_count": 15,
   "metadata": {},
   "outputs": [],
   "source": [
    "def scalar_multiply(matrix, scalar):\n",
    "    result = [[0 for _ in range(len(matrix))] for _ in range(len(matrix[0]))]\n",
    "    for i in range(len(matrix[0])):\n",
    "        for j in range(len(matrix)):\n",
    "            result[i][j] = matrix[i][j] * scalar\n",
    "    return result"
   ]
  },
  {
   "cell_type": "code",
   "execution_count": 16,
   "metadata": {},
   "outputs": [
    {
     "data": {
      "text/plain": [
       "[[2, 4], [6, 8]]"
      ]
     },
     "execution_count": 16,
     "metadata": {},
     "output_type": "execute_result"
    }
   ],
   "source": [
    "scalar_multiply(matrix, scalar)"
   ]
  },
  {
   "cell_type": "markdown",
   "metadata": {},
   "source": [
    "# Calculate Covariance Matrix\n",
    "Write a Python function to calculate the covariance matrix for a given set of vectors. The function should take a list of lists, where each inner list represents a feature with its observations, and return a covariance matrix as a list of lists. Additionally, provide test cases to verify the correctness of your implementation."
   ]
  },
  {
   "cell_type": "code",
   "execution_count": 48,
   "metadata": {},
   "outputs": [],
   "source": [
    "vectors = [[1, 2, 3], [4, 5, 6]]"
   ]
  },
  {
   "cell_type": "code",
   "execution_count": 59,
   "metadata": {},
   "outputs": [],
   "source": [
    "def calculate_covariance_matrix(vectors):\n",
    "\n",
    "\tn = len(vectors)\n",
    "\tm = len(vectors[0])\n",
    "\n",
    "\tсvectors = [[0 for _ in range(n)] for _ in range(n)]\n",
    "\tmeans = [sum(vectors[i])/m for i in range(n)]\n",
    "\n",
    "\tfor i in range(n):\n",
    "\t\tfor j in range(i, n):\n",
    "\t\t\tcovariance = sum((vectors[i][k] - means[i]) * (vectors[j][k] - means[j]) for k in range(m)) / (m - 1)\n",
    "\t\t\tсvectors[i][j] = сvectors[j][i] = covariance\n",
    "\n",
    "\treturn сvectors"
   ]
  },
  {
   "cell_type": "code",
   "execution_count": 60,
   "metadata": {},
   "outputs": [
    {
     "data": {
      "text/plain": [
       "[[1.0, 1.0], [1.0, 1.0]]"
      ]
     },
     "execution_count": 60,
     "metadata": {},
     "output_type": "execute_result"
    }
   ],
   "source": [
    "calculate_covariance_matrix(vectors)"
   ]
  },
  {
   "cell_type": "markdown",
   "metadata": {},
   "source": [
    "# Linear Regression Using Normal Equation\n",
    "Write a Python function that performs linear regression using the normal equation. The function should take a matrix X (features) and a vector y (target) as input, and return the coefficients of the linear regression model. Round your answer to four decimal places, -0.0 is a valid result for rounding a very small number."
   ]
  },
  {
   "cell_type": "code",
   "execution_count": 61,
   "metadata": {},
   "outputs": [],
   "source": [
    "X = [[1, 1], [1, 2], [1, 3]]\n",
    "y = [1, 2, 3]"
   ]
  },
  {
   "cell_type": "code",
   "execution_count": 121,
   "metadata": {},
   "outputs": [],
   "source": [
    "import numpy as np\n",
    "def linear_regression_normal_equation(X, y):\n",
    "    X, y = np.array(X), np.array(y)\n",
    "    theta = np.round(((np.linalg.inv(X.T@X))@X.T@y), 3)\n",
    "    return theta"
   ]
  },
  {
   "cell_type": "code",
   "execution_count": 122,
   "metadata": {},
   "outputs": [
    {
     "data": {
      "text/plain": [
       "array([-0.,  1.])"
      ]
     },
     "execution_count": 122,
     "metadata": {},
     "output_type": "execute_result"
    }
   ],
   "source": [
    "linear_regression_normal_equation(X,y)"
   ]
  },
  {
   "cell_type": "markdown",
   "metadata": {},
   "source": [
    "# Linear Regression Using Gradient Descent\n",
    "Write a Python function that performs linear regression using gradient descent. The function should take NumPy arrays X (features with a column of ones for the intercept) and y (target) as input, along with learning rate alpha and the number of iterations, and return the coefficients of the linear regression model as a NumPy array. Round your answer to four decimal places. -0.0 is a valid result for rounding a very small number."
   ]
  },
  {
   "cell_type": "code",
   "execution_count": 44,
   "metadata": {},
   "outputs": [],
   "source": [
    "import numpy as np\n",
    "\n",
    "X = np.array([[1, 1], [1, 2], [1, 3]])\n",
    "y = np.array([1, 2, 3])\n",
    "alpha = 0.01\n",
    "iterations = 1000"
   ]
  },
  {
   "cell_type": "code",
   "execution_count": 45,
   "metadata": {},
   "outputs": [],
   "source": [
    "def linear_regression_gradient_descent(X: np.ndarray, y: np.ndarray, alpha: float, iterations: int) -> np.ndarray:\n",
    "\n",
    "\tm, n = X.shape\n",
    "\ttheta = np.zeros((n, 1))\n",
    "\n",
    "\tfor iter in range(iterations):\n",
    "\t\tpreds = X @ theta\n",
    "\t\terror = preds - y.reshape(-1,1)\n",
    "\n",
    "\t\tupd = X.T @ error / m\n",
    "\t\t\n",
    "\t\ttheta -= alpha*upd\n",
    "\t\n",
    "\ttheta = np.round(theta.flatten(), 4)\n",
    "\treturn theta"
   ]
  },
  {
   "cell_type": "code",
   "execution_count": 46,
   "metadata": {},
   "outputs": [
    {
     "data": {
      "text/plain": [
       "array([0.1107, 0.9513])"
      ]
     },
     "execution_count": 46,
     "metadata": {},
     "output_type": "execute_result"
    }
   ],
   "source": [
    "linear_regression_gradient_descent(X, y, alpha, iterations)"
   ]
  },
  {
   "cell_type": "markdown",
   "metadata": {},
   "source": [
    "# Feature Scaling Implementation\n",
    "Write a Python function that performs feature scaling on a dataset using both standardization and min-max normalization. The function should take a 2D NumPy array as input, where each row represents a data sample and each column represents a feature. It should return two 2D NumPy arrays: one scaled by standardization and one by min-max normalization. Make sure all results are rounded to the nearest 4th decimal.\n",
    "\n"
   ]
  },
  {
   "cell_type": "code",
   "execution_count": 149,
   "metadata": {},
   "outputs": [],
   "source": [
    "data = np.array([[1, 2], [3, 4], [5, 6]])"
   ]
  },
  {
   "cell_type": "code",
   "execution_count": 150,
   "metadata": {},
   "outputs": [],
   "source": [
    "import numpy as np"
   ]
  },
  {
   "cell_type": "code",
   "execution_count": 179,
   "metadata": {},
   "outputs": [],
   "source": [
    "def feature_scaling(data: np.ndarray) -> (np.ndarray, np.ndarray):\n",
    "\n",
    "\tstandardized_data = (data - data.mean(axis = 0)) / data.std(axis = 0)\n",
    "\tnormalized_data = ((data - data.min(axis = 0))/ (data.max(axis = 0) - data.min(axis = 0)))\n",
    "\n",
    "\treturn np.round(standardized_data, 4), np.round(normalized_data ,4)"
   ]
  },
  {
   "cell_type": "code",
   "execution_count": 180,
   "metadata": {},
   "outputs": [
    {
     "data": {
      "text/plain": [
       "(array([[-1.2247, -1.2247],\n",
       "        [ 0.    ,  0.    ],\n",
       "        [ 1.2247,  1.2247]]),\n",
       " array([[0. , 0. ],\n",
       "        [0.5, 0.5],\n",
       "        [1. , 1. ]]))"
      ]
     },
     "execution_count": 180,
     "metadata": {},
     "output_type": "execute_result"
    }
   ],
   "source": [
    "feature_scaling(data)"
   ]
  },
  {
   "cell_type": "markdown",
   "metadata": {
    "notebookRunGroups": {
     "groupValue": "2"
    },
    "tags": [
     "Description"
    ]
   },
   "source": [
    "# Sigmoid Activation Function Understanding\n",
    "\n",
    "Write a Python function that computes the output of the sigmoid activation function given an input value z. The function should return the output rounded to four decimal places."
   ]
  },
  {
   "cell_type": "code",
   "execution_count": 61,
   "metadata": {},
   "outputs": [],
   "source": [
    "z = 0"
   ]
  },
  {
   "cell_type": "code",
   "execution_count": 62,
   "metadata": {},
   "outputs": [],
   "source": [
    "import math\n",
    "\n",
    "def sigmoid(z: float) -> float:\n",
    "\tsigma = 1 / (1+math.exp(-z))\n",
    "\treturn round(sigma, 4)"
   ]
  },
  {
   "cell_type": "code",
   "execution_count": 63,
   "metadata": {},
   "outputs": [
    {
     "data": {
      "text/plain": [
       "0.5"
      ]
     },
     "execution_count": 63,
     "metadata": {},
     "output_type": "execute_result"
    }
   ],
   "source": [
    "sigmoid(z)"
   ]
  },
  {
   "cell_type": "markdown",
   "metadata": {},
   "source": [
    "# Batch Iterator for Dataset"
   ]
  },
  {
   "cell_type": "code",
   "execution_count": 64,
   "metadata": {},
   "outputs": [],
   "source": [
    "import numpy as np\n",
    "\n",
    "X = np.array([[1, 2], \n",
    "              [3, 4], \n",
    "              [5, 6], \n",
    "              [7, 8], \n",
    "              [9, 10]])\n",
    "\n",
    "y = np.array([1, 2, 3, 4, 5])\n",
    "\n",
    "batch_size = 2"
   ]
  },
  {
   "cell_type": "code",
   "execution_count": 65,
   "metadata": {},
   "outputs": [],
   "source": [
    "def batch_iterator(X, y, batch_size):\n",
    "    \n",
    "    samples = X.shape[0]\n",
    "    batches = []\n",
    "\n",
    "    for i in np.arange(0, samples, batch_size):\n",
    "        begin, end = i, min(i+batch_size, samples)\n",
    "        \n",
    "        if y is not None:\n",
    "            batches.append([X[begin:end], y[begin:end]])\n",
    "        else:\n",
    "            batches.append(X[begin:end])\n",
    "\n",
    "    return batches"
   ]
  },
  {
   "cell_type": "code",
   "execution_count": 66,
   "metadata": {},
   "outputs": [
    {
     "data": {
      "text/plain": [
       "[[array([[1, 2],\n",
       "         [3, 4]]),\n",
       "  array([1, 2])],\n",
       " [array([[5, 6],\n",
       "         [7, 8]]),\n",
       "  array([3, 4])],\n",
       " [array([[ 9, 10]]), array([5])]]"
      ]
     },
     "execution_count": 66,
     "metadata": {},
     "output_type": "execute_result"
    }
   ],
   "source": [
    "batch_iterator(X, y, batch_size)"
   ]
  }
 ],
 "metadata": {
  "kernelspec": {
   "display_name": "Python 3",
   "language": "python",
   "name": "python3"
  },
  "language_info": {
   "codemirror_mode": {
    "name": "ipython",
    "version": 3
   },
   "file_extension": ".py",
   "mimetype": "text/x-python",
   "name": "python",
   "nbconvert_exporter": "python",
   "pygments_lexer": "ipython3",
   "version": "3.12.6"
  }
 },
 "nbformat": 4,
 "nbformat_minor": 2
}
